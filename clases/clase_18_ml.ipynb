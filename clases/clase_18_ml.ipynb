{
 "cells": [
  {
   "cell_type": "markdown",
   "id": "244e22cfa9cbbea8",
   "metadata": {},
   "source": [
    "## Clase 18 - ML y Deep Learning ----------------------------------\n",
    "### 18-04-2024 -------------------------------------------------------------"
   ]
  },
  {
   "cell_type": "code",
   "id": "initial_id",
   "metadata": {
    "ExecuteTime": {
     "end_time": "2024-04-28T23:54:43.365659Z",
     "start_time": "2024-04-28T23:54:43.363609Z"
    }
   },
   "source": [
    "import matplotlib.pyplot as plt\n",
    "import numpy as np\n",
    "import tensorflow as tf"
   ],
   "outputs": [],
   "execution_count": 39
  },
  {
   "cell_type": "code",
   "id": "ec5c1ae107afcf1",
   "metadata": {
    "ExecuteTime": {
     "end_time": "2024-04-27T20:02:07.322703Z",
     "start_time": "2024-04-27T20:02:07.319727Z"
    }
   },
   "source": "tf.__version__  # Version de TensorFlow",
   "outputs": [
    {
     "data": {
      "text/plain": [
       "'2.16.1'"
      ]
     },
     "execution_count": 2,
     "metadata": {},
     "output_type": "execute_result"
    }
   ],
   "execution_count": 2
  },
  {
   "cell_type": "code",
   "id": "7c8b87ae01217a50",
   "metadata": {
    "ExecuteTime": {
     "end_time": "2024-04-27T20:02:07.326129Z",
     "start_time": "2024-04-27T20:02:07.324160Z"
    }
   },
   "source": "np.__version__  # Version de NumPy",
   "outputs": [
    {
     "data": {
      "text/plain": [
       "'1.26.4'"
      ]
     },
     "execution_count": 3,
     "metadata": {},
     "output_type": "execute_result"
    }
   ],
   "execution_count": 3
  },
  {
   "metadata": {},
   "cell_type": "markdown",
   "source": [
    "### Que es una red neuronal?\n",
    "Una red neuronal esta compuesto por neuronas, las cuales a traves de las dentritas reciben la informacion, se procesa en el nucleo para luego ser enviadas por la mielina en el axón para transmitir la informacion a traves de los botones sinapticos.\n",
    "\n",
    "Las neuronas artificiales reciben los impulsos de entrada, y cada una de las conexiones de entrada van a estar asociados a un peso, luego la suma de todos los valores por el peso mas un bias pasa por una funcion de activacion para luego devolver el resultado.\n",
    "\n",
    "Los datos de entrada deber ser **normalizados** antes de entrenar la red neuronal. La normalizacion es importante para que los datos no esten en diferentes escalas, ya que esto puede afectar el entrenamiento de la red neuronal. \n"
   ],
   "id": "366a6d064aeb69f6"
  },
  {
   "metadata": {},
   "cell_type": "markdown",
   "source": [
    "### Funciones de activacion\n",
    "\n",
    "- **Funcion de activacion lineal**: `f(x) = x`\n",
    "- **Funcion de activacion escalonada**: `f(x) = 1 si x >= 0, 0 si x < 0`\n",
    "- **Funcion de activacion sigmoide**: `f(x) = 1 / (1 + e^-x)`\n",
    "- **Funcion de activacion tangente hiperbolica**: `f(x) = (e^x - e^-x) / (e^x + e^-x)`\n",
    "- **Funcion de activacion ReLU**: `f(x) = max(0, x)`\n",
    "- **Funcion de activacion Leaky ReLU**: `f(x) = max(0.01x, x)`\n",
    "- **Funcion de activacion ELU**: `f(x) = x si x > 0, alpha(e^x - 1) si x <= 0`\n",
    "\n",
    "<br/>\n",
    "<br/>\n",
    "\n",
    "| Tipo de problema | Tipo de Salida                  | Funcion de activacion | Funcion de perdida           |\n",
    "|------------------|---------------------------------|-----------------------|------------------------------|\n",
    "Regresion | Valor numerico                  | Lineal | Error cuadratico medio (MSE) |\n",
    "Clasificacion  | Binario                         | Sigmoide | Entropia cruzada binaria     |\n",
    "Clasificacion  | Una etiqueta o multiples clases | Softmax | Entropia cruzada categorica  |\n",
    "Claificacion  | Multiples etiquetas o clases    | Sigmoid | Entropia cruzada binaria     |\n",
    "\n",
    "<br/>\n",
    "\n",
    "### Percetron\n",
    "\n",
    "Es la unidad basica de una red neuronal, es una neurona artificial que recibe multiples entradas y devuelve una salida. La salida es calculada por la suma de los productos de las entradas por los pesos mas el bias, luego pasa por una funcion de activacion.\n",
    "\n",
    "<br/>\n",
    "\n",
    "### Perceptron multicapa\n",
    "\n",
    "Es una red neuronal que esta compuesta por multiples capas de perceptrones. Cada capa esta compuesta por multiples perceptrones, y cada perceptron esta conectado con todos los perceptrones de la capa anterior. La primera capa se llama capa de entrada, la ultima capa se llama capa de salida, y las capas intermedias se llaman capas ocultas.\n",
    "\n",
    "<br/>\n",
    "\n",
    "### Gradiente descendente\n",
    "\n",
    "**Gradient Descent**\n",
    "\n",
    "`Costo = (1 / 2) * (y - y_pred)^2`\n",
    "\n",
    "- Es un algoritmo de optimizacion que se utiliza para minimizar una funcion de perdida. El algoritmo consiste en calcular la derivada de la funcion de perdida con respecto a los pesos y bias, \n",
    "\n",
    "**Stockastic Gradient Descent (SGD)**\n",
    "\n",
    "- Es una variante del gradiente descendente que se utiliza para minimizar la funcion de perdida. En lugar de calcular el gradiente de la funcion de perdida con respecto a todos los datos de entrenamiento, se calcula el gradiente con respecto a un solo dato de entrenamiento.\n",
    "\n",
    "**Mini-batch Gradient Descent**\n",
    "\n",
    "- Es una variante del gradiente descendente que se utiliza para minimizar la funcion de perdida. En lugar de calcular el gradiente de la funcion de perdida con respecto a todos los datos de entrenamiento, se calcula el gradiente con respecto a un subconjunto de datos de entrenamiento.\n",
    "\n",
    "### Optimizadores\n",
    "\n",
    "- **SGD**: Stockastic Gradient Descent\n",
    "- **Adam**: Adaptive Moment Estimation\n",
    "\n",
    "**SDG**:\n",
    "- Este optimizador trata de encontrar minimos o maximos por iteracion. \n",
    "- Al igual que en el gradiente descendiente, el gradiente indica la direccion (en la que la funcion tiene el ratio de aumento mas pronunciada) aunque no indica hasta donde se debe avanzar en esa direccion.\n",
    "- Como no nos fija cuanto avanzar, existe el ratio de aprendizaje (learning rate) que nos indica cuanto avanzar en la direccion del gradiente.\n",
    "\n",
    "**Adam**:\n",
    "- El optimizador Adam trata de solventar el problema de la fijacion del ratio de aprendizaje del SGD, para ello calcula el ratio de aprendizaje de forma adaptativa para cada parametro. Si los gradientes de un parametro son muy dispersos, el ratio de aprendizaje se reduce, y si los gradientes son mas consistentes, el ratio de aprendizaje se incrementa.\n",
    "- Adam es un optimizador que combina las ventajas de otros optimizadores como RMSprop y Adagrad.\n",
    "\n",
    "### Actualizacion de pesos\n",
    "\n",
    "`w = w - learning_rate * dw`\n",
    "\n",
    "`b = b - learning_rate * db`\n",
    "\n",
    "- Se calculan las derivadas parciales de la funcion de perdida con respecto unicamenta a los parametros de la ultima capa, sin influir sobre ningun otro parametro de las capas anteriores.\n",
    "- Una vez obtenidas las derivadas, se pasa a la capa anterior y se calculan las derivadas parciales de la funcion de perdida, pero ahora con respecto a los parametros de esta capa.\n",
    "- Este proceso se repite hasta llegar a la capa de entrada.\n"
   ],
   "id": "f777451863193050"
  },
  {
   "metadata": {},
   "cell_type": "markdown",
   "source": "### Ejemplo practico - Boston House Price Prediction",
   "id": "9d3ce9f54ddc84e5"
  },
  {
   "metadata": {
    "ExecuteTime": {
     "end_time": "2024-04-28T23:25:55.946301Z",
     "start_time": "2024-04-28T23:25:55.941579Z"
    }
   },
   "cell_type": "code",
   "source": [
    "# Cargamos el dataset de Boston Housing\n",
    "(train_data, train_output), (test_data, test_output) = tf.keras.datasets.boston_housing.load_data()"
   ],
   "id": "4e8d1db8e0ab701a",
   "outputs": [],
   "execution_count": 17
  },
  {
   "metadata": {
    "ExecuteTime": {
     "end_time": "2024-04-28T23:25:58.853240Z",
     "start_time": "2024-04-28T23:25:58.848933Z"
    }
   },
   "cell_type": "code",
   "source": [
    "# Imprimimos la estructura de los datos de entrenamiento y test\n",
    "train_data.shape, train_output.shape, test_data.shape, test_output.shape"
   ],
   "id": "5e9ddeea80098251",
   "outputs": [
    {
     "data": {
      "text/plain": [
       "((404, 13), (404,), (102, 13), (102,))"
      ]
     },
     "execution_count": 18,
     "metadata": {},
     "output_type": "execute_result"
    }
   ],
   "execution_count": 18
  },
  {
   "metadata": {
    "ExecuteTime": {
     "end_time": "2024-04-28T23:26:00.744118Z",
     "start_time": "2024-04-28T23:26:00.740631Z"
    }
   },
   "cell_type": "code",
   "source": [
    "# Normalizar los datos de entrenamiento\n",
    "# Encuentro la media\n",
    "train_mean = np.mean(train_data, axis=0)\n",
    "# Encuentro la desviacion estandar\n",
    "train_std = np.std(train_data, axis=0)"
   ],
   "id": "26652fe702847365",
   "outputs": [],
   "execution_count": 19
  },
  {
   "metadata": {
    "ExecuteTime": {
     "end_time": "2024-04-28T23:26:02.729389Z",
     "start_time": "2024-04-28T23:26:02.726554Z"
    }
   },
   "cell_type": "code",
   "source": [
    "# Normalizar los datos de test\n",
    "test_mean = np.mean(test_data, axis=0)\n",
    "test_std = np.std(test_data, axis=0)"
   ],
   "id": "d7de7da9854c8d4c",
   "outputs": [],
   "execution_count": 20
  },
  {
   "metadata": {
    "ExecuteTime": {
     "end_time": "2024-04-28T23:26:04.340701Z",
     "start_time": "2024-04-28T23:26:04.338037Z"
    }
   },
   "cell_type": "code",
   "source": [
    "# Normalizo los datos de entrenamiento\n",
    "train_data = (train_data - train_mean) / train_std"
   ],
   "id": "7a429bf8a5f857df",
   "outputs": [],
   "execution_count": 21
  },
  {
   "metadata": {
    "ExecuteTime": {
     "end_time": "2024-04-28T23:26:06.312995Z",
     "start_time": "2024-04-28T23:26:06.310442Z"
    }
   },
   "cell_type": "code",
   "source": [
    "# Normalizo los datos de test\n",
    "test_data = (test_data - test_mean) / test_std"
   ],
   "id": "bda1811baf451529",
   "outputs": [],
   "execution_count": 22
  },
  {
   "metadata": {
    "ExecuteTime": {
     "end_time": "2024-04-29T00:03:56.275200Z",
     "start_time": "2024-04-29T00:03:56.270510Z"
    }
   },
   "cell_type": "code",
   "source": [
    "# Creamos el modelo\n",
    "def build_model():\n",
    "    model = tf.keras.models.Sequential()\n",
    "    model.add(tf.keras.Input(shape=(train_data.shape[1],)))  # Use Input layer\n",
    "    model.add(tf.keras.layers.Dense(128, activation='relu'))  # 13 entradas en shape\n",
    "    model.add(tf.keras.layers.Dropout(0.5))  # Regularización para evitar overfitting\n",
    "    model.add(tf.keras.layers.Dense(64, activation='relu'))  # rectified linear unit\n",
    "    model.add(tf.keras.layers.Dropout(0.2))\n",
    "    model.add(tf.keras.layers.Dense(1, activation='linear'))  # linear en la salida siempre que sea regresión\n",
    "\n",
    "    model.compile(loss='mse', optimizer='adam',\n",
    "                  metrics=['mse', 'mae'])  # mse = mean squared error, mae = mean absolute error\n",
    "    model.summary()\n",
    "    return model"
   ],
   "id": "b0ab4e7503e2d964",
   "outputs": [],
   "execution_count": 59
  },
  {
   "metadata": {
    "ExecuteTime": {
     "end_time": "2024-04-29T00:03:58.486566Z",
     "start_time": "2024-04-29T00:03:58.459180Z"
    }
   },
   "cell_type": "code",
   "source": "model = build_model()",
   "id": "6debaabafb8e669b",
   "outputs": [
    {
     "data": {
      "text/plain": [
       "\u001B[1mModel: \"sequential_9\"\u001B[0m\n"
      ],
      "text/html": [
       "<pre style=\"white-space:pre;overflow-x:auto;line-height:normal;font-family:Menlo,'DejaVu Sans Mono',consolas,'Courier New',monospace\"><span style=\"font-weight: bold\">Model: \"sequential_9\"</span>\n",
       "</pre>\n"
      ]
     },
     "metadata": {},
     "output_type": "display_data"
    },
    {
     "data": {
      "text/plain": [
       "┏━━━━━━━━━━━━━━━━━━━━━━━━━━━━━━━━━┳━━━━━━━━━━━━━━━━━━━━━━━━┳━━━━━━━━━━━━━━━┓\n",
       "┃\u001B[1m \u001B[0m\u001B[1mLayer (type)                   \u001B[0m\u001B[1m \u001B[0m┃\u001B[1m \u001B[0m\u001B[1mOutput Shape          \u001B[0m\u001B[1m \u001B[0m┃\u001B[1m \u001B[0m\u001B[1m      Param #\u001B[0m\u001B[1m \u001B[0m┃\n",
       "┡━━━━━━━━━━━━━━━━━━━━━━━━━━━━━━━━━╇━━━━━━━━━━━━━━━━━━━━━━━━╇━━━━━━━━━━━━━━━┩\n",
       "│ dense_26 (\u001B[38;5;33mDense\u001B[0m)                │ (\u001B[38;5;45mNone\u001B[0m, \u001B[38;5;34m128\u001B[0m)            │         \u001B[38;5;34m1,792\u001B[0m │\n",
       "├─────────────────────────────────┼────────────────────────┼───────────────┤\n",
       "│ dropout_12 (\u001B[38;5;33mDropout\u001B[0m)            │ (\u001B[38;5;45mNone\u001B[0m, \u001B[38;5;34m128\u001B[0m)            │             \u001B[38;5;34m0\u001B[0m │\n",
       "├─────────────────────────────────┼────────────────────────┼───────────────┤\n",
       "│ dense_27 (\u001B[38;5;33mDense\u001B[0m)                │ (\u001B[38;5;45mNone\u001B[0m, \u001B[38;5;34m64\u001B[0m)             │         \u001B[38;5;34m8,256\u001B[0m │\n",
       "├─────────────────────────────────┼────────────────────────┼───────────────┤\n",
       "│ dropout_13 (\u001B[38;5;33mDropout\u001B[0m)            │ (\u001B[38;5;45mNone\u001B[0m, \u001B[38;5;34m64\u001B[0m)             │             \u001B[38;5;34m0\u001B[0m │\n",
       "├─────────────────────────────────┼────────────────────────┼───────────────┤\n",
       "│ dense_28 (\u001B[38;5;33mDense\u001B[0m)                │ (\u001B[38;5;45mNone\u001B[0m, \u001B[38;5;34m1\u001B[0m)              │            \u001B[38;5;34m65\u001B[0m │\n",
       "└─────────────────────────────────┴────────────────────────┴───────────────┘\n"
      ],
      "text/html": [
       "<pre style=\"white-space:pre;overflow-x:auto;line-height:normal;font-family:Menlo,'DejaVu Sans Mono',consolas,'Courier New',monospace\">┏━━━━━━━━━━━━━━━━━━━━━━━━━━━━━━━━━┳━━━━━━━━━━━━━━━━━━━━━━━━┳━━━━━━━━━━━━━━━┓\n",
       "┃<span style=\"font-weight: bold\"> Layer (type)                    </span>┃<span style=\"font-weight: bold\"> Output Shape           </span>┃<span style=\"font-weight: bold\">       Param # </span>┃\n",
       "┡━━━━━━━━━━━━━━━━━━━━━━━━━━━━━━━━━╇━━━━━━━━━━━━━━━━━━━━━━━━╇━━━━━━━━━━━━━━━┩\n",
       "│ dense_26 (<span style=\"color: #0087ff; text-decoration-color: #0087ff\">Dense</span>)                │ (<span style=\"color: #00d7ff; text-decoration-color: #00d7ff\">None</span>, <span style=\"color: #00af00; text-decoration-color: #00af00\">128</span>)            │         <span style=\"color: #00af00; text-decoration-color: #00af00\">1,792</span> │\n",
       "├─────────────────────────────────┼────────────────────────┼───────────────┤\n",
       "│ dropout_12 (<span style=\"color: #0087ff; text-decoration-color: #0087ff\">Dropout</span>)            │ (<span style=\"color: #00d7ff; text-decoration-color: #00d7ff\">None</span>, <span style=\"color: #00af00; text-decoration-color: #00af00\">128</span>)            │             <span style=\"color: #00af00; text-decoration-color: #00af00\">0</span> │\n",
       "├─────────────────────────────────┼────────────────────────┼───────────────┤\n",
       "│ dense_27 (<span style=\"color: #0087ff; text-decoration-color: #0087ff\">Dense</span>)                │ (<span style=\"color: #00d7ff; text-decoration-color: #00d7ff\">None</span>, <span style=\"color: #00af00; text-decoration-color: #00af00\">64</span>)             │         <span style=\"color: #00af00; text-decoration-color: #00af00\">8,256</span> │\n",
       "├─────────────────────────────────┼────────────────────────┼───────────────┤\n",
       "│ dropout_13 (<span style=\"color: #0087ff; text-decoration-color: #0087ff\">Dropout</span>)            │ (<span style=\"color: #00d7ff; text-decoration-color: #00d7ff\">None</span>, <span style=\"color: #00af00; text-decoration-color: #00af00\">64</span>)             │             <span style=\"color: #00af00; text-decoration-color: #00af00\">0</span> │\n",
       "├─────────────────────────────────┼────────────────────────┼───────────────┤\n",
       "│ dense_28 (<span style=\"color: #0087ff; text-decoration-color: #0087ff\">Dense</span>)                │ (<span style=\"color: #00d7ff; text-decoration-color: #00d7ff\">None</span>, <span style=\"color: #00af00; text-decoration-color: #00af00\">1</span>)              │            <span style=\"color: #00af00; text-decoration-color: #00af00\">65</span> │\n",
       "└─────────────────────────────────┴────────────────────────┴───────────────┘\n",
       "</pre>\n"
      ]
     },
     "metadata": {},
     "output_type": "display_data"
    },
    {
     "data": {
      "text/plain": [
       "\u001B[1m Total params: \u001B[0m\u001B[38;5;34m10,113\u001B[0m (39.50 KB)\n"
      ],
      "text/html": [
       "<pre style=\"white-space:pre;overflow-x:auto;line-height:normal;font-family:Menlo,'DejaVu Sans Mono',consolas,'Courier New',monospace\"><span style=\"font-weight: bold\"> Total params: </span><span style=\"color: #00af00; text-decoration-color: #00af00\">10,113</span> (39.50 KB)\n",
       "</pre>\n"
      ]
     },
     "metadata": {},
     "output_type": "display_data"
    },
    {
     "data": {
      "text/plain": [
       "\u001B[1m Trainable params: \u001B[0m\u001B[38;5;34m10,113\u001B[0m (39.50 KB)\n"
      ],
      "text/html": [
       "<pre style=\"white-space:pre;overflow-x:auto;line-height:normal;font-family:Menlo,'DejaVu Sans Mono',consolas,'Courier New',monospace\"><span style=\"font-weight: bold\"> Trainable params: </span><span style=\"color: #00af00; text-decoration-color: #00af00\">10,113</span> (39.50 KB)\n",
       "</pre>\n"
      ]
     },
     "metadata": {},
     "output_type": "display_data"
    },
    {
     "data": {
      "text/plain": [
       "\u001B[1m Non-trainable params: \u001B[0m\u001B[38;5;34m0\u001B[0m (0.00 B)\n"
      ],
      "text/html": [
       "<pre style=\"white-space:pre;overflow-x:auto;line-height:normal;font-family:Menlo,'DejaVu Sans Mono',consolas,'Courier New',monospace\"><span style=\"font-weight: bold\"> Non-trainable params: </span><span style=\"color: #00af00; text-decoration-color: #00af00\">0</span> (0.00 B)\n",
       "</pre>\n"
      ]
     },
     "metadata": {},
     "output_type": "display_data"
    }
   ],
   "execution_count": 60
  },
  {
   "metadata": {
    "ExecuteTime": {
     "end_time": "2024-04-29T00:04:05.744009Z",
     "start_time": "2024-04-29T00:04:01.564899Z"
    }
   },
   "cell_type": "code",
   "source": "history = model.fit(train_data, train_output, validation_data=(test_data, test_output), epochs=100, batch_size=8)",
   "id": "1807e6fe057f2d2d",
   "outputs": [
    {
     "name": "stdout",
     "output_type": "stream",
     "text": [
      "Epoch 1/100\n",
      "\u001B[1m51/51\u001B[0m \u001B[32m━━━━━━━━━━━━━━━━━━━━\u001B[0m\u001B[37m\u001B[0m \u001B[1m0s\u001B[0m 2ms/step - loss: 504.1375 - mae: 20.4900 - mse: 504.1375 - val_loss: 298.2153 - val_mae: 15.2417 - val_mse: 298.2153\n",
      "Epoch 2/100\n",
      "\u001B[1m51/51\u001B[0m \u001B[32m━━━━━━━━━━━━━━━━━━━━\u001B[0m\u001B[37m\u001B[0m \u001B[1m0s\u001B[0m 659us/step - loss: 157.2705 - mae: 10.4062 - mse: 157.2705 - val_loss: 56.1077 - val_mae: 5.9363 - val_mse: 56.1077\n",
      "Epoch 3/100\n",
      "\u001B[1m51/51\u001B[0m \u001B[32m━━━━━━━━━━━━━━━━━━━━\u001B[0m\u001B[37m\u001B[0m \u001B[1m0s\u001B[0m 578us/step - loss: 64.6043 - mae: 5.9236 - mse: 64.6043 - val_loss: 33.1714 - val_mae: 4.3817 - val_mse: 33.1714\n",
      "Epoch 4/100\n",
      "\u001B[1m51/51\u001B[0m \u001B[32m━━━━━━━━━━━━━━━━━━━━\u001B[0m\u001B[37m\u001B[0m \u001B[1m0s\u001B[0m 569us/step - loss: 43.0621 - mae: 4.7101 - mse: 43.0621 - val_loss: 25.8607 - val_mae: 3.8429 - val_mse: 25.8607\n",
      "Epoch 5/100\n",
      "\u001B[1m51/51\u001B[0m \u001B[32m━━━━━━━━━━━━━━━━━━━━\u001B[0m\u001B[37m\u001B[0m \u001B[1m0s\u001B[0m 581us/step - loss: 31.7981 - mae: 4.2814 - mse: 31.7981 - val_loss: 24.8251 - val_mae: 3.6783 - val_mse: 24.8251\n",
      "Epoch 6/100\n",
      "\u001B[1m51/51\u001B[0m \u001B[32m━━━━━━━━━━━━━━━━━━━━\u001B[0m\u001B[37m\u001B[0m \u001B[1m0s\u001B[0m 545us/step - loss: 37.6869 - mae: 4.4731 - mse: 37.6869 - val_loss: 23.4865 - val_mae: 3.4558 - val_mse: 23.4865\n",
      "Epoch 7/100\n",
      "\u001B[1m51/51\u001B[0m \u001B[32m━━━━━━━━━━━━━━━━━━━━\u001B[0m\u001B[37m\u001B[0m \u001B[1m0s\u001B[0m 584us/step - loss: 30.5467 - mae: 4.2485 - mse: 30.5467 - val_loss: 22.6697 - val_mae: 3.3816 - val_mse: 22.6697\n",
      "Epoch 8/100\n",
      "\u001B[1m51/51\u001B[0m \u001B[32m━━━━━━━━━━━━━━━━━━━━\u001B[0m\u001B[37m\u001B[0m \u001B[1m0s\u001B[0m 559us/step - loss: 30.7847 - mae: 4.1449 - mse: 30.7847 - val_loss: 22.4811 - val_mae: 3.3143 - val_mse: 22.4811\n",
      "Epoch 9/100\n",
      "\u001B[1m51/51\u001B[0m \u001B[32m━━━━━━━━━━━━━━━━━━━━\u001B[0m\u001B[37m\u001B[0m \u001B[1m0s\u001B[0m 609us/step - loss: 28.6878 - mae: 4.0828 - mse: 28.6878 - val_loss: 22.0396 - val_mae: 3.2381 - val_mse: 22.0396\n",
      "Epoch 10/100\n",
      "\u001B[1m51/51\u001B[0m \u001B[32m━━━━━━━━━━━━━━━━━━━━\u001B[0m\u001B[37m\u001B[0m \u001B[1m0s\u001B[0m 612us/step - loss: 23.0615 - mae: 3.6399 - mse: 23.0615 - val_loss: 23.9304 - val_mae: 3.3984 - val_mse: 23.9304\n",
      "Epoch 11/100\n",
      "\u001B[1m51/51\u001B[0m \u001B[32m━━━━━━━━━━━━━━━━━━━━\u001B[0m\u001B[37m\u001B[0m \u001B[1m0s\u001B[0m 600us/step - loss: 25.1128 - mae: 3.7028 - mse: 25.1128 - val_loss: 22.1616 - val_mae: 3.2574 - val_mse: 22.1616\n",
      "Epoch 12/100\n",
      "\u001B[1m51/51\u001B[0m \u001B[32m━━━━━━━━━━━━━━━━━━━━\u001B[0m\u001B[37m\u001B[0m \u001B[1m0s\u001B[0m 603us/step - loss: 23.3889 - mae: 3.6818 - mse: 23.3889 - val_loss: 22.5198 - val_mae: 3.2769 - val_mse: 22.5198\n",
      "Epoch 13/100\n",
      "\u001B[1m51/51\u001B[0m \u001B[32m━━━━━━━━━━━━━━━━━━━━\u001B[0m\u001B[37m\u001B[0m \u001B[1m0s\u001B[0m 570us/step - loss: 26.4553 - mae: 3.9684 - mse: 26.4553 - val_loss: 23.9923 - val_mae: 3.3760 - val_mse: 23.9923\n",
      "Epoch 14/100\n",
      "\u001B[1m51/51\u001B[0m \u001B[32m━━━━━━━━━━━━━━━━━━━━\u001B[0m\u001B[37m\u001B[0m \u001B[1m0s\u001B[0m 540us/step - loss: 19.7710 - mae: 3.3647 - mse: 19.7710 - val_loss: 21.9222 - val_mae: 3.2806 - val_mse: 21.9222\n",
      "Epoch 15/100\n",
      "\u001B[1m51/51\u001B[0m \u001B[32m━━━━━━━━━━━━━━━━━━━━\u001B[0m\u001B[37m\u001B[0m \u001B[1m0s\u001B[0m 548us/step - loss: 25.8781 - mae: 3.6910 - mse: 25.8781 - val_loss: 22.1746 - val_mae: 3.1908 - val_mse: 22.1746\n",
      "Epoch 16/100\n",
      "\u001B[1m51/51\u001B[0m \u001B[32m━━━━━━━━━━━━━━━━━━━━\u001B[0m\u001B[37m\u001B[0m \u001B[1m0s\u001B[0m 579us/step - loss: 22.8910 - mae: 3.5258 - mse: 22.8910 - val_loss: 21.4433 - val_mae: 3.1195 - val_mse: 21.4433\n",
      "Epoch 17/100\n",
      "\u001B[1m51/51\u001B[0m \u001B[32m━━━━━━━━━━━━━━━━━━━━\u001B[0m\u001B[37m\u001B[0m \u001B[1m0s\u001B[0m 560us/step - loss: 20.2746 - mae: 3.5980 - mse: 20.2746 - val_loss: 22.5602 - val_mae: 3.2185 - val_mse: 22.5602\n",
      "Epoch 18/100\n",
      "\u001B[1m51/51\u001B[0m \u001B[32m━━━━━━━━━━━━━━━━━━━━\u001B[0m\u001B[37m\u001B[0m \u001B[1m0s\u001B[0m 587us/step - loss: 26.5010 - mae: 3.9417 - mse: 26.5010 - val_loss: 21.3501 - val_mae: 3.0601 - val_mse: 21.3501\n",
      "Epoch 19/100\n",
      "\u001B[1m51/51\u001B[0m \u001B[32m━━━━━━━━━━━━━━━━━━━━\u001B[0m\u001B[37m\u001B[0m \u001B[1m0s\u001B[0m 583us/step - loss: 19.7780 - mae: 3.4605 - mse: 19.7780 - val_loss: 22.5668 - val_mae: 3.2447 - val_mse: 22.5668\n",
      "Epoch 20/100\n",
      "\u001B[1m51/51\u001B[0m \u001B[32m━━━━━━━━━━━━━━━━━━━━\u001B[0m\u001B[37m\u001B[0m \u001B[1m0s\u001B[0m 595us/step - loss: 25.8421 - mae: 3.5818 - mse: 25.8421 - val_loss: 21.8407 - val_mae: 3.1054 - val_mse: 21.8407\n",
      "Epoch 21/100\n",
      "\u001B[1m51/51\u001B[0m \u001B[32m━━━━━━━━━━━━━━━━━━━━\u001B[0m\u001B[37m\u001B[0m \u001B[1m0s\u001B[0m 566us/step - loss: 30.8036 - mae: 4.0809 - mse: 30.8036 - val_loss: 22.2284 - val_mae: 3.1328 - val_mse: 22.2284\n",
      "Epoch 22/100\n",
      "\u001B[1m51/51\u001B[0m \u001B[32m━━━━━━━━━━━━━━━━━━━━\u001B[0m\u001B[37m\u001B[0m \u001B[1m0s\u001B[0m 573us/step - loss: 26.8944 - mae: 3.7501 - mse: 26.8944 - val_loss: 22.4902 - val_mae: 3.1233 - val_mse: 22.4902\n",
      "Epoch 23/100\n",
      "\u001B[1m51/51\u001B[0m \u001B[32m━━━━━━━━━━━━━━━━━━━━\u001B[0m\u001B[37m\u001B[0m \u001B[1m0s\u001B[0m 557us/step - loss: 24.7543 - mae: 3.7250 - mse: 24.7543 - val_loss: 21.0729 - val_mae: 3.0303 - val_mse: 21.0729\n",
      "Epoch 24/100\n",
      "\u001B[1m51/51\u001B[0m \u001B[32m━━━━━━━━━━━━━━━━━━━━\u001B[0m\u001B[37m\u001B[0m \u001B[1m0s\u001B[0m 549us/step - loss: 24.5254 - mae: 3.4792 - mse: 24.5254 - val_loss: 20.8961 - val_mae: 2.9865 - val_mse: 20.8961\n",
      "Epoch 25/100\n",
      "\u001B[1m51/51\u001B[0m \u001B[32m━━━━━━━━━━━━━━━━━━━━\u001B[0m\u001B[37m\u001B[0m \u001B[1m0s\u001B[0m 556us/step - loss: 20.9787 - mae: 3.3083 - mse: 20.9787 - val_loss: 20.4349 - val_mae: 2.9794 - val_mse: 20.4349\n",
      "Epoch 26/100\n",
      "\u001B[1m51/51\u001B[0m \u001B[32m━━━━━━━━━━━━━━━━━━━━\u001B[0m\u001B[37m\u001B[0m \u001B[1m0s\u001B[0m 560us/step - loss: 21.8728 - mae: 3.5230 - mse: 21.8728 - val_loss: 20.5437 - val_mae: 2.9672 - val_mse: 20.5437\n",
      "Epoch 27/100\n",
      "\u001B[1m51/51\u001B[0m \u001B[32m━━━━━━━━━━━━━━━━━━━━\u001B[0m\u001B[37m\u001B[0m \u001B[1m0s\u001B[0m 554us/step - loss: 23.5427 - mae: 3.5016 - mse: 23.5427 - val_loss: 20.7661 - val_mae: 2.9494 - val_mse: 20.7661\n",
      "Epoch 28/100\n",
      "\u001B[1m51/51\u001B[0m \u001B[32m━━━━━━━━━━━━━━━━━━━━\u001B[0m\u001B[37m\u001B[0m \u001B[1m0s\u001B[0m 581us/step - loss: 22.2845 - mae: 3.7261 - mse: 22.2845 - val_loss: 20.9546 - val_mae: 2.9878 - val_mse: 20.9546\n",
      "Epoch 29/100\n",
      "\u001B[1m51/51\u001B[0m \u001B[32m━━━━━━━━━━━━━━━━━━━━\u001B[0m\u001B[37m\u001B[0m \u001B[1m0s\u001B[0m 596us/step - loss: 18.2745 - mae: 3.2676 - mse: 18.2745 - val_loss: 20.9655 - val_mae: 3.0575 - val_mse: 20.9655\n",
      "Epoch 30/100\n",
      "\u001B[1m51/51\u001B[0m \u001B[32m━━━━━━━━━━━━━━━━━━━━\u001B[0m\u001B[37m\u001B[0m \u001B[1m0s\u001B[0m 608us/step - loss: 22.4889 - mae: 3.3438 - mse: 22.4889 - val_loss: 21.0809 - val_mae: 3.0404 - val_mse: 21.0809\n",
      "Epoch 31/100\n",
      "\u001B[1m51/51\u001B[0m \u001B[32m━━━━━━━━━━━━━━━━━━━━\u001B[0m\u001B[37m\u001B[0m \u001B[1m0s\u001B[0m 572us/step - loss: 19.1317 - mae: 3.3461 - mse: 19.1317 - val_loss: 20.7278 - val_mae: 3.0920 - val_mse: 20.7278\n",
      "Epoch 32/100\n",
      "\u001B[1m51/51\u001B[0m \u001B[32m━━━━━━━━━━━━━━━━━━━━\u001B[0m\u001B[37m\u001B[0m \u001B[1m0s\u001B[0m 604us/step - loss: 24.4552 - mae: 3.6910 - mse: 24.4552 - val_loss: 20.9507 - val_mae: 3.0679 - val_mse: 20.9507\n",
      "Epoch 33/100\n",
      "\u001B[1m51/51\u001B[0m \u001B[32m━━━━━━━━━━━━━━━━━━━━\u001B[0m\u001B[37m\u001B[0m \u001B[1m0s\u001B[0m 587us/step - loss: 20.7110 - mae: 3.6414 - mse: 20.7110 - val_loss: 20.5486 - val_mae: 3.0687 - val_mse: 20.5486\n",
      "Epoch 34/100\n",
      "\u001B[1m51/51\u001B[0m \u001B[32m━━━━━━━━━━━━━━━━━━━━\u001B[0m\u001B[37m\u001B[0m \u001B[1m0s\u001B[0m 601us/step - loss: 22.1854 - mae: 3.4662 - mse: 22.1854 - val_loss: 20.7731 - val_mae: 3.0276 - val_mse: 20.7731\n",
      "Epoch 35/100\n",
      "\u001B[1m51/51\u001B[0m \u001B[32m━━━━━━━━━━━━━━━━━━━━\u001B[0m\u001B[37m\u001B[0m \u001B[1m0s\u001B[0m 595us/step - loss: 17.9737 - mae: 3.2785 - mse: 17.9737 - val_loss: 20.2291 - val_mae: 2.9732 - val_mse: 20.2291\n",
      "Epoch 36/100\n",
      "\u001B[1m51/51\u001B[0m \u001B[32m━━━━━━━━━━━━━━━━━━━━\u001B[0m\u001B[37m\u001B[0m \u001B[1m0s\u001B[0m 587us/step - loss: 21.2645 - mae: 3.3619 - mse: 21.2645 - val_loss: 20.0915 - val_mae: 2.9211 - val_mse: 20.0915\n",
      "Epoch 37/100\n",
      "\u001B[1m51/51\u001B[0m \u001B[32m━━━━━━━━━━━━━━━━━━━━\u001B[0m\u001B[37m\u001B[0m \u001B[1m0s\u001B[0m 562us/step - loss: 21.6119 - mae: 3.6102 - mse: 21.6119 - val_loss: 21.0892 - val_mae: 3.0548 - val_mse: 21.0892\n",
      "Epoch 38/100\n",
      "\u001B[1m51/51\u001B[0m \u001B[32m━━━━━━━━━━━━━━━━━━━━\u001B[0m\u001B[37m\u001B[0m \u001B[1m0s\u001B[0m 572us/step - loss: 17.4894 - mae: 3.2474 - mse: 17.4894 - val_loss: 21.1561 - val_mae: 2.9807 - val_mse: 21.1561\n",
      "Epoch 39/100\n",
      "\u001B[1m51/51\u001B[0m \u001B[32m━━━━━━━━━━━━━━━━━━━━\u001B[0m\u001B[37m\u001B[0m \u001B[1m0s\u001B[0m 596us/step - loss: 23.7146 - mae: 3.6815 - mse: 23.7146 - val_loss: 20.4790 - val_mae: 2.9809 - val_mse: 20.4790\n",
      "Epoch 40/100\n",
      "\u001B[1m51/51\u001B[0m \u001B[32m━━━━━━━━━━━━━━━━━━━━\u001B[0m\u001B[37m\u001B[0m \u001B[1m0s\u001B[0m 569us/step - loss: 18.5242 - mae: 3.2529 - mse: 18.5242 - val_loss: 19.2725 - val_mae: 2.9111 - val_mse: 19.2725\n",
      "Epoch 41/100\n",
      "\u001B[1m51/51\u001B[0m \u001B[32m━━━━━━━━━━━━━━━━━━━━\u001B[0m\u001B[37m\u001B[0m \u001B[1m0s\u001B[0m 565us/step - loss: 20.1463 - mae: 3.3055 - mse: 20.1463 - val_loss: 20.5652 - val_mae: 3.0059 - val_mse: 20.5652\n",
      "Epoch 42/100\n",
      "\u001B[1m51/51\u001B[0m \u001B[32m━━━━━━━━━━━━━━━━━━━━\u001B[0m\u001B[37m\u001B[0m \u001B[1m0s\u001B[0m 555us/step - loss: 19.5763 - mae: 3.3407 - mse: 19.5763 - val_loss: 20.0616 - val_mae: 2.8648 - val_mse: 20.0616\n",
      "Epoch 43/100\n",
      "\u001B[1m51/51\u001B[0m \u001B[32m━━━━━━━━━━━━━━━━━━━━\u001B[0m\u001B[37m\u001B[0m \u001B[1m0s\u001B[0m 576us/step - loss: 18.0555 - mae: 3.1108 - mse: 18.0555 - val_loss: 20.3071 - val_mae: 2.9115 - val_mse: 20.3071\n",
      "Epoch 44/100\n",
      "\u001B[1m51/51\u001B[0m \u001B[32m━━━━━━━━━━━━━━━━━━━━\u001B[0m\u001B[37m\u001B[0m \u001B[1m0s\u001B[0m 564us/step - loss: 18.2829 - mae: 3.1128 - mse: 18.2829 - val_loss: 20.8668 - val_mae: 3.1071 - val_mse: 20.8668\n",
      "Epoch 45/100\n",
      "\u001B[1m51/51\u001B[0m \u001B[32m━━━━━━━━━━━━━━━━━━━━\u001B[0m\u001B[37m\u001B[0m \u001B[1m0s\u001B[0m 550us/step - loss: 18.2867 - mae: 3.3560 - mse: 18.2867 - val_loss: 20.2200 - val_mae: 3.0374 - val_mse: 20.2200\n",
      "Epoch 46/100\n",
      "\u001B[1m51/51\u001B[0m \u001B[32m━━━━━━━━━━━━━━━━━━━━\u001B[0m\u001B[37m\u001B[0m \u001B[1m0s\u001B[0m 558us/step - loss: 17.6871 - mae: 3.1773 - mse: 17.6871 - val_loss: 20.0933 - val_mae: 2.9541 - val_mse: 20.0933\n",
      "Epoch 47/100\n",
      "\u001B[1m51/51\u001B[0m \u001B[32m━━━━━━━━━━━━━━━━━━━━\u001B[0m\u001B[37m\u001B[0m \u001B[1m0s\u001B[0m 561us/step - loss: 16.6736 - mae: 3.0894 - mse: 16.6736 - val_loss: 19.5368 - val_mae: 2.8263 - val_mse: 19.5368\n",
      "Epoch 48/100\n",
      "\u001B[1m51/51\u001B[0m \u001B[32m━━━━━━━━━━━━━━━━━━━━\u001B[0m\u001B[37m\u001B[0m \u001B[1m0s\u001B[0m 557us/step - loss: 18.7043 - mae: 3.3105 - mse: 18.7043 - val_loss: 19.8985 - val_mae: 2.9716 - val_mse: 19.8985\n",
      "Epoch 49/100\n",
      "\u001B[1m51/51\u001B[0m \u001B[32m━━━━━━━━━━━━━━━━━━━━\u001B[0m\u001B[37m\u001B[0m \u001B[1m0s\u001B[0m 556us/step - loss: 18.1157 - mae: 3.2906 - mse: 18.1157 - val_loss: 21.1229 - val_mae: 3.1631 - val_mse: 21.1229\n",
      "Epoch 50/100\n",
      "\u001B[1m51/51\u001B[0m \u001B[32m━━━━━━━━━━━━━━━━━━━━\u001B[0m\u001B[37m\u001B[0m \u001B[1m0s\u001B[0m 739us/step - loss: 21.0911 - mae: 3.4307 - mse: 21.0911 - val_loss: 19.9327 - val_mae: 3.0397 - val_mse: 19.9327\n",
      "Epoch 51/100\n",
      "\u001B[1m51/51\u001B[0m \u001B[32m━━━━━━━━━━━━━━━━━━━━\u001B[0m\u001B[37m\u001B[0m \u001B[1m0s\u001B[0m 537us/step - loss: 18.2115 - mae: 3.1789 - mse: 18.2115 - val_loss: 21.9434 - val_mae: 3.2967 - val_mse: 21.9434\n",
      "Epoch 52/100\n",
      "\u001B[1m51/51\u001B[0m \u001B[32m━━━━━━━━━━━━━━━━━━━━\u001B[0m\u001B[37m\u001B[0m \u001B[1m0s\u001B[0m 529us/step - loss: 17.2900 - mae: 3.2793 - mse: 17.2900 - val_loss: 19.2853 - val_mae: 2.9050 - val_mse: 19.2853\n",
      "Epoch 53/100\n",
      "\u001B[1m51/51\u001B[0m \u001B[32m━━━━━━━━━━━━━━━━━━━━\u001B[0m\u001B[37m\u001B[0m \u001B[1m0s\u001B[0m 546us/step - loss: 20.7345 - mae: 3.2650 - mse: 20.7345 - val_loss: 21.6284 - val_mae: 3.1423 - val_mse: 21.6284\n",
      "Epoch 54/100\n",
      "\u001B[1m51/51\u001B[0m \u001B[32m━━━━━━━━━━━━━━━━━━━━\u001B[0m\u001B[37m\u001B[0m \u001B[1m0s\u001B[0m 546us/step - loss: 18.7971 - mae: 3.2003 - mse: 18.7971 - val_loss: 20.3530 - val_mae: 2.8772 - val_mse: 20.3530\n",
      "Epoch 55/100\n",
      "\u001B[1m51/51\u001B[0m \u001B[32m━━━━━━━━━━━━━━━━━━━━\u001B[0m\u001B[37m\u001B[0m \u001B[1m0s\u001B[0m 537us/step - loss: 21.2472 - mae: 3.3510 - mse: 21.2472 - val_loss: 20.0758 - val_mae: 3.0299 - val_mse: 20.0758\n",
      "Epoch 56/100\n",
      "\u001B[1m51/51\u001B[0m \u001B[32m━━━━━━━━━━━━━━━━━━━━\u001B[0m\u001B[37m\u001B[0m \u001B[1m0s\u001B[0m 558us/step - loss: 19.2559 - mae: 3.2200 - mse: 19.2559 - val_loss: 17.9541 - val_mae: 2.7329 - val_mse: 17.9541\n",
      "Epoch 57/100\n",
      "\u001B[1m51/51\u001B[0m \u001B[32m━━━━━━━━━━━━━━━━━━━━\u001B[0m\u001B[37m\u001B[0m \u001B[1m0s\u001B[0m 575us/step - loss: 15.2120 - mae: 3.0088 - mse: 15.2120 - val_loss: 19.9542 - val_mae: 2.9991 - val_mse: 19.9542\n",
      "Epoch 58/100\n",
      "\u001B[1m51/51\u001B[0m \u001B[32m━━━━━━━━━━━━━━━━━━━━\u001B[0m\u001B[37m\u001B[0m \u001B[1m0s\u001B[0m 561us/step - loss: 19.7227 - mae: 3.2743 - mse: 19.7227 - val_loss: 20.9439 - val_mae: 3.0821 - val_mse: 20.9439\n",
      "Epoch 59/100\n",
      "\u001B[1m51/51\u001B[0m \u001B[32m━━━━━━━━━━━━━━━━━━━━\u001B[0m\u001B[37m\u001B[0m \u001B[1m0s\u001B[0m 566us/step - loss: 19.1177 - mae: 3.1901 - mse: 19.1177 - val_loss: 20.6097 - val_mae: 2.9817 - val_mse: 20.6097\n",
      "Epoch 60/100\n",
      "\u001B[1m51/51\u001B[0m \u001B[32m━━━━━━━━━━━━━━━━━━━━\u001B[0m\u001B[37m\u001B[0m \u001B[1m0s\u001B[0m 765us/step - loss: 23.4561 - mae: 3.4834 - mse: 23.4561 - val_loss: 18.3358 - val_mae: 2.8433 - val_mse: 18.3358\n",
      "Epoch 61/100\n",
      "\u001B[1m51/51\u001B[0m \u001B[32m━━━━━━━━━━━━━━━━━━━━\u001B[0m\u001B[37m\u001B[0m \u001B[1m0s\u001B[0m 588us/step - loss: 23.5863 - mae: 3.4640 - mse: 23.5863 - val_loss: 17.9707 - val_mae: 2.7733 - val_mse: 17.9707\n",
      "Epoch 62/100\n",
      "\u001B[1m51/51\u001B[0m \u001B[32m━━━━━━━━━━━━━━━━━━━━\u001B[0m\u001B[37m\u001B[0m \u001B[1m0s\u001B[0m 577us/step - loss: 20.1737 - mae: 3.4329 - mse: 20.1737 - val_loss: 18.4949 - val_mae: 2.8277 - val_mse: 18.4949\n",
      "Epoch 63/100\n",
      "\u001B[1m51/51\u001B[0m \u001B[32m━━━━━━━━━━━━━━━━━━━━\u001B[0m\u001B[37m\u001B[0m \u001B[1m0s\u001B[0m 566us/step - loss: 15.5059 - mae: 2.9692 - mse: 15.5059 - val_loss: 19.6787 - val_mae: 2.9128 - val_mse: 19.6787\n",
      "Epoch 64/100\n",
      "\u001B[1m51/51\u001B[0m \u001B[32m━━━━━━━━━━━━━━━━━━━━\u001B[0m\u001B[37m\u001B[0m \u001B[1m0s\u001B[0m 563us/step - loss: 18.9593 - mae: 3.2020 - mse: 18.9593 - val_loss: 18.7590 - val_mae: 2.9192 - val_mse: 18.7590\n",
      "Epoch 65/100\n",
      "\u001B[1m51/51\u001B[0m \u001B[32m━━━━━━━━━━━━━━━━━━━━\u001B[0m\u001B[37m\u001B[0m \u001B[1m0s\u001B[0m 562us/step - loss: 15.4704 - mae: 2.9925 - mse: 15.4704 - val_loss: 20.2814 - val_mae: 3.1244 - val_mse: 20.2814\n",
      "Epoch 66/100\n",
      "\u001B[1m51/51\u001B[0m \u001B[32m━━━━━━━━━━━━━━━━━━━━\u001B[0m\u001B[37m\u001B[0m \u001B[1m0s\u001B[0m 561us/step - loss: 18.8864 - mae: 3.1050 - mse: 18.8864 - val_loss: 18.4165 - val_mae: 2.8707 - val_mse: 18.4165\n",
      "Epoch 67/100\n",
      "\u001B[1m51/51\u001B[0m \u001B[32m━━━━━━━━━━━━━━━━━━━━\u001B[0m\u001B[37m\u001B[0m \u001B[1m0s\u001B[0m 555us/step - loss: 15.7882 - mae: 2.9391 - mse: 15.7882 - val_loss: 18.7567 - val_mae: 2.9078 - val_mse: 18.7567\n",
      "Epoch 68/100\n",
      "\u001B[1m51/51\u001B[0m \u001B[32m━━━━━━━━━━━━━━━━━━━━\u001B[0m\u001B[37m\u001B[0m \u001B[1m0s\u001B[0m 561us/step - loss: 21.2523 - mae: 3.2406 - mse: 21.2523 - val_loss: 18.7899 - val_mae: 2.8793 - val_mse: 18.7899\n",
      "Epoch 69/100\n",
      "\u001B[1m51/51\u001B[0m \u001B[32m━━━━━━━━━━━━━━━━━━━━\u001B[0m\u001B[37m\u001B[0m \u001B[1m0s\u001B[0m 566us/step - loss: 20.9305 - mae: 3.2244 - mse: 20.9305 - val_loss: 18.9168 - val_mae: 2.8609 - val_mse: 18.9168\n",
      "Epoch 70/100\n",
      "\u001B[1m51/51\u001B[0m \u001B[32m━━━━━━━━━━━━━━━━━━━━\u001B[0m\u001B[37m\u001B[0m \u001B[1m0s\u001B[0m 549us/step - loss: 20.5156 - mae: 3.2463 - mse: 20.5156 - val_loss: 17.8474 - val_mae: 2.7892 - val_mse: 17.8474\n",
      "Epoch 71/100\n",
      "\u001B[1m51/51\u001B[0m \u001B[32m━━━━━━━━━━━━━━━━━━━━\u001B[0m\u001B[37m\u001B[0m \u001B[1m0s\u001B[0m 550us/step - loss: 21.2887 - mae: 3.1521 - mse: 21.2887 - val_loss: 18.0293 - val_mae: 2.7519 - val_mse: 18.0293\n",
      "Epoch 72/100\n",
      "\u001B[1m51/51\u001B[0m \u001B[32m━━━━━━━━━━━━━━━━━━━━\u001B[0m\u001B[37m\u001B[0m \u001B[1m0s\u001B[0m 555us/step - loss: 16.0457 - mae: 3.0176 - mse: 16.0457 - val_loss: 18.7406 - val_mae: 2.9094 - val_mse: 18.7406\n",
      "Epoch 73/100\n",
      "\u001B[1m51/51\u001B[0m \u001B[32m━━━━━━━━━━━━━━━━━━━━\u001B[0m\u001B[37m\u001B[0m \u001B[1m0s\u001B[0m 543us/step - loss: 20.1407 - mae: 3.2247 - mse: 20.1407 - val_loss: 17.9290 - val_mae: 2.7760 - val_mse: 17.9290\n",
      "Epoch 74/100\n",
      "\u001B[1m51/51\u001B[0m \u001B[32m━━━━━━━━━━━━━━━━━━━━\u001B[0m\u001B[37m\u001B[0m \u001B[1m0s\u001B[0m 552us/step - loss: 16.2355 - mae: 3.0415 - mse: 16.2355 - val_loss: 17.3170 - val_mae: 2.6814 - val_mse: 17.3170\n",
      "Epoch 75/100\n",
      "\u001B[1m51/51\u001B[0m \u001B[32m━━━━━━━━━━━━━━━━━━━━\u001B[0m\u001B[37m\u001B[0m \u001B[1m0s\u001B[0m 561us/step - loss: 17.8399 - mae: 3.1660 - mse: 17.8399 - val_loss: 19.5491 - val_mae: 2.9951 - val_mse: 19.5491\n",
      "Epoch 76/100\n",
      "\u001B[1m51/51\u001B[0m \u001B[32m━━━━━━━━━━━━━━━━━━━━\u001B[0m\u001B[37m\u001B[0m \u001B[1m0s\u001B[0m 556us/step - loss: 21.2353 - mae: 3.2697 - mse: 21.2353 - val_loss: 18.7154 - val_mae: 2.9278 - val_mse: 18.7154\n",
      "Epoch 77/100\n",
      "\u001B[1m51/51\u001B[0m \u001B[32m━━━━━━━━━━━━━━━━━━━━\u001B[0m\u001B[37m\u001B[0m \u001B[1m0s\u001B[0m 541us/step - loss: 16.0647 - mae: 2.9695 - mse: 16.0647 - val_loss: 18.0712 - val_mae: 2.7520 - val_mse: 18.0712\n",
      "Epoch 78/100\n",
      "\u001B[1m51/51\u001B[0m \u001B[32m━━━━━━━━━━━━━━━━━━━━\u001B[0m\u001B[37m\u001B[0m \u001B[1m0s\u001B[0m 557us/step - loss: 16.5360 - mae: 3.0288 - mse: 16.5360 - val_loss: 19.7852 - val_mae: 3.0415 - val_mse: 19.7852\n",
      "Epoch 79/100\n",
      "\u001B[1m51/51\u001B[0m \u001B[32m━━━━━━━━━━━━━━━━━━━━\u001B[0m\u001B[37m\u001B[0m \u001B[1m0s\u001B[0m 566us/step - loss: 13.1123 - mae: 2.8052 - mse: 13.1123 - val_loss: 17.3476 - val_mae: 2.7111 - val_mse: 17.3476\n",
      "Epoch 80/100\n",
      "\u001B[1m51/51\u001B[0m \u001B[32m━━━━━━━━━━━━━━━━━━━━\u001B[0m\u001B[37m\u001B[0m \u001B[1m0s\u001B[0m 533us/step - loss: 15.0505 - mae: 2.8246 - mse: 15.0505 - val_loss: 18.3811 - val_mae: 2.9359 - val_mse: 18.3811\n",
      "Epoch 81/100\n",
      "\u001B[1m51/51\u001B[0m \u001B[32m━━━━━━━━━━━━━━━━━━━━\u001B[0m\u001B[37m\u001B[0m \u001B[1m0s\u001B[0m 557us/step - loss: 23.2902 - mae: 3.4408 - mse: 23.2902 - val_loss: 17.8237 - val_mae: 2.8731 - val_mse: 17.8237\n",
      "Epoch 82/100\n",
      "\u001B[1m51/51\u001B[0m \u001B[32m━━━━━━━━━━━━━━━━━━━━\u001B[0m\u001B[37m\u001B[0m \u001B[1m0s\u001B[0m 567us/step - loss: 20.9228 - mae: 3.1551 - mse: 20.9228 - val_loss: 17.6420 - val_mae: 2.8592 - val_mse: 17.6420\n",
      "Epoch 83/100\n",
      "\u001B[1m51/51\u001B[0m \u001B[32m━━━━━━━━━━━━━━━━━━━━\u001B[0m\u001B[37m\u001B[0m \u001B[1m0s\u001B[0m 568us/step - loss: 16.7111 - mae: 2.9809 - mse: 16.7111 - val_loss: 16.5724 - val_mae: 2.6574 - val_mse: 16.5724\n",
      "Epoch 84/100\n",
      "\u001B[1m51/51\u001B[0m \u001B[32m━━━━━━━━━━━━━━━━━━━━\u001B[0m\u001B[37m\u001B[0m \u001B[1m0s\u001B[0m 601us/step - loss: 17.7077 - mae: 3.0725 - mse: 17.7077 - val_loss: 16.7749 - val_mae: 2.7435 - val_mse: 16.7749\n",
      "Epoch 85/100\n",
      "\u001B[1m51/51\u001B[0m \u001B[32m━━━━━━━━━━━━━━━━━━━━\u001B[0m\u001B[37m\u001B[0m \u001B[1m0s\u001B[0m 565us/step - loss: 17.8009 - mae: 3.2445 - mse: 17.8009 - val_loss: 18.2392 - val_mae: 2.8284 - val_mse: 18.2392\n",
      "Epoch 86/100\n",
      "\u001B[1m51/51\u001B[0m \u001B[32m━━━━━━━━━━━━━━━━━━━━\u001B[0m\u001B[37m\u001B[0m \u001B[1m0s\u001B[0m 570us/step - loss: 15.6777 - mae: 2.9277 - mse: 15.6777 - val_loss: 18.3570 - val_mae: 2.7483 - val_mse: 18.3570\n",
      "Epoch 87/100\n",
      "\u001B[1m51/51\u001B[0m \u001B[32m━━━━━━━━━━━━━━━━━━━━\u001B[0m\u001B[37m\u001B[0m \u001B[1m0s\u001B[0m 557us/step - loss: 16.0531 - mae: 2.8257 - mse: 16.0531 - val_loss: 18.0937 - val_mae: 2.7666 - val_mse: 18.0937\n",
      "Epoch 88/100\n",
      "\u001B[1m51/51\u001B[0m \u001B[32m━━━━━━━━━━━━━━━━━━━━\u001B[0m\u001B[37m\u001B[0m \u001B[1m0s\u001B[0m 563us/step - loss: 20.2303 - mae: 3.4241 - mse: 20.2303 - val_loss: 19.2527 - val_mae: 2.7594 - val_mse: 19.2527\n",
      "Epoch 89/100\n",
      "\u001B[1m51/51\u001B[0m \u001B[32m━━━━━━━━━━━━━━━━━━━━\u001B[0m\u001B[37m\u001B[0m \u001B[1m0s\u001B[0m 573us/step - loss: 17.7732 - mae: 3.1729 - mse: 17.7732 - val_loss: 18.4037 - val_mae: 2.7706 - val_mse: 18.4037\n",
      "Epoch 90/100\n",
      "\u001B[1m51/51\u001B[0m \u001B[32m━━━━━━━━━━━━━━━━━━━━\u001B[0m\u001B[37m\u001B[0m \u001B[1m0s\u001B[0m 566us/step - loss: 20.0636 - mae: 3.1781 - mse: 20.0636 - val_loss: 18.2660 - val_mae: 2.7896 - val_mse: 18.2660\n",
      "Epoch 91/100\n",
      "\u001B[1m51/51\u001B[0m \u001B[32m━━━━━━━━━━━━━━━━━━━━\u001B[0m\u001B[37m\u001B[0m \u001B[1m0s\u001B[0m 556us/step - loss: 16.6327 - mae: 3.0361 - mse: 16.6327 - val_loss: 17.7528 - val_mae: 2.7098 - val_mse: 17.7528\n",
      "Epoch 92/100\n",
      "\u001B[1m51/51\u001B[0m \u001B[32m━━━━━━━━━━━━━━━━━━━━\u001B[0m\u001B[37m\u001B[0m \u001B[1m0s\u001B[0m 578us/step - loss: 13.5422 - mae: 2.7388 - mse: 13.5422 - val_loss: 18.7578 - val_mae: 2.8681 - val_mse: 18.7578\n",
      "Epoch 93/100\n",
      "\u001B[1m51/51\u001B[0m \u001B[32m━━━━━━━━━━━━━━━━━━━━\u001B[0m\u001B[37m\u001B[0m \u001B[1m0s\u001B[0m 576us/step - loss: 14.3663 - mae: 2.9452 - mse: 14.3663 - val_loss: 18.1729 - val_mae: 2.7294 - val_mse: 18.1729\n",
      "Epoch 94/100\n",
      "\u001B[1m51/51\u001B[0m \u001B[32m━━━━━━━━━━━━━━━━━━━━\u001B[0m\u001B[37m\u001B[0m \u001B[1m0s\u001B[0m 577us/step - loss: 15.8063 - mae: 3.0250 - mse: 15.8063 - val_loss: 20.0014 - val_mae: 2.9747 - val_mse: 20.0014\n",
      "Epoch 95/100\n",
      "\u001B[1m51/51\u001B[0m \u001B[32m━━━━━━━━━━━━━━━━━━━━\u001B[0m\u001B[37m\u001B[0m \u001B[1m0s\u001B[0m 589us/step - loss: 13.2813 - mae: 2.7781 - mse: 13.2813 - val_loss: 21.2143 - val_mae: 3.0860 - val_mse: 21.2143\n",
      "Epoch 96/100\n",
      "\u001B[1m51/51\u001B[0m \u001B[32m━━━━━━━━━━━━━━━━━━━━\u001B[0m\u001B[37m\u001B[0m \u001B[1m0s\u001B[0m 572us/step - loss: 15.6153 - mae: 2.9831 - mse: 15.6153 - val_loss: 17.9170 - val_mae: 2.8138 - val_mse: 17.9170\n",
      "Epoch 97/100\n",
      "\u001B[1m51/51\u001B[0m \u001B[32m━━━━━━━━━━━━━━━━━━━━\u001B[0m\u001B[37m\u001B[0m \u001B[1m0s\u001B[0m 873us/step - loss: 16.7398 - mae: 3.0387 - mse: 16.7398 - val_loss: 18.3900 - val_mae: 2.8500 - val_mse: 18.3900\n",
      "Epoch 98/100\n",
      "\u001B[1m51/51\u001B[0m \u001B[32m━━━━━━━━━━━━━━━━━━━━\u001B[0m\u001B[37m\u001B[0m \u001B[1m0s\u001B[0m 760us/step - loss: 18.6292 - mae: 3.1222 - mse: 18.6292 - val_loss: 16.9768 - val_mae: 2.6829 - val_mse: 16.9768\n",
      "Epoch 99/100\n",
      "\u001B[1m51/51\u001B[0m \u001B[32m━━━━━━━━━━━━━━━━━━━━\u001B[0m\u001B[37m\u001B[0m \u001B[1m0s\u001B[0m 634us/step - loss: 17.4166 - mae: 2.9741 - mse: 17.4166 - val_loss: 17.4218 - val_mae: 2.6701 - val_mse: 17.4218\n",
      "Epoch 100/100\n",
      "\u001B[1m51/51\u001B[0m \u001B[32m━━━━━━━━━━━━━━━━━━━━\u001B[0m\u001B[37m\u001B[0m \u001B[1m0s\u001B[0m 556us/step - loss: 12.4395 - mae: 2.6010 - mse: 12.4395 - val_loss: 18.1634 - val_mae: 2.7235 - val_mse: 18.1634\n"
     ]
    }
   ],
   "execution_count": 61
  },
  {
   "metadata": {
    "ExecuteTime": {
     "end_time": "2024-04-29T00:04:08.917701Z",
     "start_time": "2024-04-29T00:04:08.914146Z"
    }
   },
   "cell_type": "code",
   "source": [
    "def plot_history(history):\n",
    "    plt.figure()\n",
    "    plt.xlabel('Epoch')\n",
    "    plt.ylabel('MSE')\n",
    "    plt.plot(history.epoch, history.history['mae'], label='Training error')\n",
    "    plt.plot(history.epoch, history.history['val_mae'], label='Test error')\n",
    "    plt.legend()\n",
    "    plt.show()"
   ],
   "id": "4e6226e21f013b8d",
   "outputs": [],
   "execution_count": 62
  },
  {
   "metadata": {
    "ExecuteTime": {
     "end_time": "2024-04-29T00:04:10.905694Z",
     "start_time": "2024-04-29T00:04:10.817117Z"
    }
   },
   "cell_type": "code",
   "source": "plot_history(history)",
   "id": "9f9b9c46ca816b36",
   "outputs": [
    {
     "data": {
      "text/plain": [
       "<Figure size 640x480 with 1 Axes>"
      ],
      "image/png": "[encoded data removed]"
     },
     "metadata": {},
     "output_type": "display_data"
    }
   ],
   "execution_count": 63
  },
  {
   "metadata": {
    "ExecuteTime": {
     "end_time": "2024-04-29T00:00:36.404676Z",
     "start_time": "2024-04-29T00:00:36.367931Z"
    }
   },
   "cell_type": "code",
   "source": [
    "# Evaluamos el modelo con los datos de test\n",
    "model.evaluate(test_data, test_output)"
   ],
   "id": "513c64d5b8a54053",
   "outputs": [
    {
     "name": "stdout",
     "output_type": "stream",
     "text": [
      "\u001B[1m4/4\u001B[0m \u001B[32m━━━━━━━━━━━━━━━━━━━━\u001B[0m\u001B[37m\u001B[0m \u001B[1m0s\u001B[0m 951us/step - loss: 14.0147 - mae: 2.5865 - mse: 14.0147\n"
     ]
    },
    {
     "data": {
      "text/plain": [
       "[17.779888153076172, 17.779888153076172, 2.77964448928833]"
      ]
     },
     "execution_count": 53,
     "metadata": {},
     "output_type": "execute_result"
    }
   ],
   "execution_count": 53
  },
  {
   "metadata": {
    "ExecuteTime": {
     "end_time": "2024-04-29T00:00:53.014929Z",
     "start_time": "2024-04-29T00:00:52.970380Z"
    }
   },
   "cell_type": "code",
   "source": [
    "# Hacemos una predicción con el modelo\n",
    "model.predict(test_data[:10])"
   ],
   "id": "d008b398312f7eef",
   "outputs": [
    {
     "name": "stdout",
     "output_type": "stream",
     "text": [
      "\u001B[1m1/1\u001B[0m \u001B[32m━━━━━━━━━━━━━━━━━━━━\u001B[0m\u001B[37m\u001B[0m \u001B[1m0s\u001B[0m 22ms/step\n"
     ]
    },
    {
     "data": {
      "text/plain": [
       "array([[ 8.391219],\n",
       "       [18.230312],\n",
       "       [22.318676],\n",
       "       [30.483368],\n",
       "       [25.637333],\n",
       "       [20.267635],\n",
       "       [28.580816],\n",
       "       [22.589796],\n",
       "       [19.071976],\n",
       "       [19.99924 ]], dtype=float32)"
      ]
     },
     "execution_count": 54,
     "metadata": {},
     "output_type": "execute_result"
    }
   ],
   "execution_count": 54
  },
  {
   "metadata": {},
   "cell_type": "markdown",
   "source": [
    "### Regulaización\n",
    "\n",
    "**Dropout**\n",
    "\n",
    "- Es una tecnica de regularizacion que se utiliza para evitar el overfitting en una red neuronal. La tecnica consiste en desactivar aleatoriamente un porcentaje de las neuronas de una capa durante el entrenamiento.\n",
    "- El dropout se aplica durante el entrenamiento, pero no durante la prediccion.\n",
    "\n",
    "**Early Stopping**\n",
    "\n",
    "- Es una tecnica de regularizacion que se utiliza para evitar el overfitting en una red neuronal. La tecnica consiste en detener el entrenamiento de la red neuronal cuando el error de validacion empieza a aumentar.\n",
    "- El early stopping se aplica durante el entrenamiento, pero no durante la prediccion.\n",
    "- El early stopping se puede aplicar en combinacion con el dropout.\n",
    "\n",
    "**Model Checkpoint**\n",
    "\n",
    "- Es una tecnica de regularizacion que se utiliza para evitar el overfitting en una red neuronal. La tecnica consiste en guardar el modelo con el menor error de validacion durante el entrenamiento.\n",
    "- El model checkpoint se aplica durante el entrenamiento, pero no durante la prediccion.\n",
    "- El model checkpoint se puede aplicar en combinacion con el dropout y el early stopping.\n",
    "- El model checkpoint se puede utilizar para guardar el modelo en un fichero.\n",
    "\n",
    "**Regularizacion L1 y L2**\n",
    "\n",
    "- Es una tecnica de regularizacion que se utiliza para evitar el overfitting en una red neuronal. La tecnica consiste en añadir un termino de regularizacion a la funcion de perdida.\n",
    "- La regularizacion L1 añade el valor absoluto de los pesos a la funcion de perdida.\n",
    "- La regularizacion L2 añade el cuadrado de los pesos a la funcion de perdida.\n",
    "- La regularizacion L1 y L2 se pueden aplicar en combinacion con el dropout, early stopping y model checkpoint.\n",
    "- La regularizacion L1 y L2 se pueden utilizar para penalizar los pesos de la red neuronal.\n",
    "- La regularizacion L1 y L2 se pueden utilizar para reducir el overfitting en una red neuronal.\n",
    "- La regularizacion L1 y L2 se pueden utilizar para mejorar el rendimiento de una red neuronal."
   ],
   "id": "369e7c40478ce9d1"
  }
 ],
 "metadata": {
  "kernelspec": {
   "display_name": "Python 3 (ipykernel)",
   "language": "python",
   "name": "python3"
  },
  "language_info": {
   "codemirror_mode": {
    "name": "ipython",
    "version": 3
   },
   "file_extension": ".py",
   "mimetype": "text/x-python",
   "name": "python",
   "nbconvert_exporter": "python",
   "pygments_lexer": "ipython3",
   "version": "3.12.2"
  }
 },
 "nbformat": 4,
 "nbformat_minor": 5
}
