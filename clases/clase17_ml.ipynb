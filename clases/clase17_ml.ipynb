{
 "cells": [
  {
   "metadata": {},
   "cell_type": "markdown",
   "source": [
    "## Clase 17 - Machine Learning -------------------------------------\n",
    "### 17-04-2024 ---------------------------------------------------------------"
   ],
   "id": "21381ce540fa34eb"
  },
  {
   "metadata": {},
   "cell_type": "markdown",
   "source": "## Teórico de Machine Learning",
   "id": "eab33ab734cca51a"
  },
  {
   "metadata": {},
   "cell_type": "markdown",
   "source": [
    "### Que es la inteligencia artificial?\n",
    "\n",
    "Surge como disciplina en 1956.\n",
    "\n",
    "Se refiere a la salida de una computadora. Es la capacidad de una computadora de realizar tareas que requieren inteligencia humana. Se comenzó utilizando en juegos de damas, para resolver problemas de logica.\n",
    "\n",
    "Una de las técnicas de IA que mas se utiliza es el Machine Learning. Expandiendo su uso en los años 1980."
   ],
   "id": "a006deb184d0c2a4"
  },
  {
   "metadata": {},
   "cell_type": "markdown",
   "source": [
    "### Que es Machine Learning?\n",
    "\n",
    "A diferencia de la IA, que busca imitar el comportamiento humano, el Machine Learning busca aprender de los datos, como aprenden los humanos.\n",
    "\n",
    "**¿Cómo funciona?**\n",
    "Es un programa de computador que aprende de la experiencia E, respecto a una tarea T, y una medida de rendimiento P, si su rendimiento en T, medido por P, mejora con la experiencia E. (Tom Mitchell, 1997)"
   ],
   "id": "ef2c4930279e4318"
  },
  {
   "metadata": {},
   "cell_type": "markdown",
   "source": [
    "### Que es Deep Learning?\n",
    "\n",
    "Es una subcategoría del Machine Learning, que se basa en redes neuronales. Es un algoritmo de Machine Learning que intenta imitar el comportamiento del cerebro humano. Se basa en la estructura de las redes neuronales, que son las unidades básicas de procesamiento del cerebro humano, a través de computación de múltiples capas de neuronas artificiales."
   ],
   "id": "3d88895653167851"
  },
  {
   "metadata": {},
   "cell_type": "markdown",
   "source": [
    "### Que es el Modelo?\n",
    "\n",
    "Un modelo es una representación de la realidad.\n",
    "\n",
    "**El modelo tiene dos etapas:**\n",
    "1. `Aprendizaje:` Se le pasan datos al modelo para que aprenda.\n",
    "2. `Inferencia:` Se le pasan datos al modelo para que haga predicciones.\n",
    "\n",
    "**Tipos de aprendizaje:**\n",
    "- `Supervisado:` Se le pasan datos etiquetados al modelo. \n",
    "    - Usos: Detección de spam, reconocimiento de voz, analítica de anuncios etc.\n",
    "- `No supervisado:` Se le pasan datos sin etiquetar al modelo. \n",
    "    - Usos: Sistemas de recomendación, detección de anomalías, registro de conductas etc.\n",
    "- `Semi-supervisado:` Se le pasan datos etiquetados y sin etiquetar al modelo.\n",
    "    - Usos: Investigaciones médicas, detección de fraude, reconocimiento de voz etc. \n",
    "- `Reforzado:` Se le pasan datos y se le dice si esta bien o mal.\n",
    "    - Usos: videojuegos, robótica, gestion de recursos etc. \n",
    "\n",
    "\n",
    "**Estrategias del aprendizaje:**\n",
    "\n",
    "`Supervisado:`\n",
    "- **Predicción/Regresión:** Se busca predecir un valor continuo.\n",
    "- **Clasificación:** Se busca predecir una etiqueta.\n",
    "\n",
    "`No supervisado:`\n",
    "- **Clustering:** Se busca agrupar datos similares.\n",
    "- **Reducción de dimensionalidad:** Se busca reducir la cantidad de variables.\n",
    "- **Deteción de anomalías:** Se busca detectar datos atípicos."
   ],
   "id": "b759334edaea0045"
  },
  {
   "metadata": {},
   "cell_type": "markdown",
   "source": [
    "### Etapas de desarrollo\n",
    "\n",
    "1. `OBTAIN:` Conseguir los datos _(bases de datos, APIs, web scraping, etc)_\n",
    "2. `SCRUB:` Limpiar los datos _(eliminar datos faltantes, outliers, etc)_\n",
    "3. `EXPLORE:` Obtener patrones y relaciones usando métodos estadísticos _(correlaciones, transformaciones, etc)_\n",
    "4. `MODEL:` Crear un modelo para predecir y pronosticar _(regresión, clasificación, clustering, etc)_\n",
    "5. `INTERPRET:` Explicar los resultados obtenidos _(visualización, métricas, etc)_\n",
    "\n",
    "**Sesgo y Varianza:**\n",
    "\n",
    "- `Sesgo:` Es la diferencia entre el valor predicho y el valor real en la población completa.\n",
    "    - Sesgo alto: Más suposiciones sobre nuestro target.\n",
    "    - Sesgo bajo: Menos suposiciones sobre nuestro target.\n",
    "\n",
    "- `Varianza:` Es la variabilidad de un modelo para una muestra aleatoria de la población total de datos. Esa diferencia entre las muestras es la varianza.\n",
    "\n",
    "**Overfitting y Underfitting:**\n",
    "\n",
    "- `Overfitting:` El modelo se ajusta demasiado a los datos de entrenamiento.\n",
    "    - Se puede solucionar con regularización, reduciendo la complejidad del modelo, aumentando la cantidad de datos, etc.\n",
    "\n",
    "- `Underfitting:` El modelo no se ajusta lo suficiente a los datos de entrenamiento.\n",
    "    - Se puede solucionar aumentando la complejidad del modelo, aumentando la cantidad de datos, etc."
   ],
   "id": "41e4364914502997"
  },
  {
   "metadata": {},
   "cell_type": "markdown",
   "source": [
    "**Evaluación:**\n",
    "\n",
    "- `Métricas de evaluación:` Son medidas que nos permiten evaluar el rendimiento de nuestro modelo.\n",
    "    - **Regresión:** MSE, RMSE, MAE, R2.\n",
    "    - **Clasificación:** Accuracy, Precision, Recall, F1, ROC-AUC.\n",
    "\n",
    "- `Metricas de certeza y error:`\n",
    "    - Tiempo de ejecucion.\n",
    "    - Sesgo y varianza.\n",
    "\n",
    "- `Matriz de confusión:` Es una tabla que se utiliza para describir el rendimiento de un modelo de clasificación.\n",
    "    - **Verdaderos positivos (TP):** El modelo predijo correctamente la clase positiva.\n",
    "    - **Falsos positivos (FP):** El modelo predijo incorrectamente la clase positiva.\n",
    "    - **Verdaderos negativos (TN):** El modelo predijo correctamente la clase negativa.\n",
    "    - **Falsos negativos (FN):** El modelo predijo incorrectamente la clase negativa. \n"
   ],
   "id": "992d5f4f3ba95c93"
  }
 ],
 "metadata": {
  "kernelspec": {
   "display_name": "Python 3",
   "language": "python",
   "name": "python3"
  },
  "language_info": {
   "codemirror_mode": {
    "name": "ipython",
    "version": 2
   },
   "file_extension": ".py",
   "mimetype": "text/x-python",
   "name": "python",
   "nbconvert_exporter": "python",
   "pygments_lexer": "ipython2",
   "version": "2.7.6"
  }
 },
 "nbformat": 4,
 "nbformat_minor": 5
}
